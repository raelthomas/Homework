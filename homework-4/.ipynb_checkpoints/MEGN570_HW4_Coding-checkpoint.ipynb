{
 "cells": [
  {
   "cell_type": "markdown",
   "metadata": {},
   "source": [
    "# MEGN 570 HW 4 - Charge Transfer Modeling\n",
    "\n",
    "We will model charge transfer at an SOFC anode, where O$^{2-}$ in the electrolyte reacts with 2 hydrogen atoms adsorbed on a Ni surface (H$_{\\rm Ni(s)}$) to form adsorbed water (H$_2$O$_{\\rm Ni(s)}$) and electrons in the Ni (e$^-_{\\rm Ni}$).\n",
    "\n",
    "$$\\mathrm{O^{2-}_{elyte(s)} + 2\\,H_{Ni(s)} \\leftrightarrows \\left[\\,\\right]_{elyte(s)} + H_2O_{Ni(s)} + \\left[\\,\\right]_{Ni(s)}+ 2\\,e^-_{Ni}  }$$\n",
    "\n",
    "where $\\left[\\,\\right]_{\\rm elyte}$ is a surface vacancy on the ceramic electrolyte surface, where the oxide formerly resided, and $ \\left[\\,\\right]_{Ni(s)}$ is a vacancy on the Ni surface.  \n",
    "\n",
    "We are going to plot the charge transfer current density as a function of the double layer potential $\\Delta\\phi = \\phi_{\\rm an} - \\phi_{\\rm elyte}$ for $-1.0 \\leq \\Delta \\phi \\leq 0.15\\,{\\rm V}$.\n",
    "\n",
    "For this reaction, the standard concentration for the Ni surface is the total site density, $C^\\circ_{\\rm Ni(s)} = \\Gamma_{\\rm Ni(s)} = 2.6\\times10^{-8}\\,\\frac{\\rm kmol}{m^2}$, and for the electrolyte it is the total electrolyte surface site density: $C_{\\rm elyte}^\\circ =\\Gamma_{\\rm YSZ(s)} =  46.05\\,\\frac{\\rm kmol}{\\rm m^2}$\n",
    "\n",
    "The species thermo and forward rate coefficient are provided for you.\n",
    "\n",
    "## Part 1:  Elementary mass action kinetics.\n",
    "\n",
    "Calculate the current density as a function of the electric potential, using elementary mass-action kinetics.  The only requirement is that you provide an equation for `i_elementary[i]`, which calculates the current density (A m%^{-2}$) for each electric potential value.  How you get to that value is up to you.\n",
    "\n",
    "The actual answers are plotted with your equation, to verify.  \n",
    "\n",
    "Note that we define positive current as positive charge moving _to_ the electrode, and the electric potential as $\\Delta \\phi = \\phi_{\\rm an} - \\phi_{\\rm elyte}$.  As we are sweeping from $\\Delta \\phi=0.15$ to $\\Delta \\phi = -1.0$, should the current get more positive or more negative?\n",
    "\n",
    "Assume the following conditions:\n",
    "\n",
    "- $\\theta_{\\rm H_{Ni(s)}} = 0.6$\n",
    "- $\\theta_{\\rm H_2O_{Ni(s)}} = 0.2$\n",
    "- $\\theta_{\\rm \\left[\\,\\right]_{Ni(s)}} = 0.2$\n",
    "- $\\theta_{\\rm O^{2-}_{elyte(s)}} = 0.92$\n",
    "- $\\theta_{\\rm \\left[\\,\\right]_{elyte(s)}} = 0.08$\n",
    "- $T = 800^\\circ$ C\n",
    "\n",
    "The $k_{\\rm fwd}$ value given below is in units that will results in a current given in A m$^{-2}$.\n",
    "\n",
    "### Import modules:"
   ]
  },
  {
   "cell_type": "code",
   "execution_count": 8,
   "metadata": {},
   "outputs": [],
   "source": [
    "import numpy as np\n",
    "from matplotlib import pyplot as plt\n",
    "from math import exp, log"
   ]
  },
  {
   "cell_type": "markdown",
   "metadata": {},
   "source": [
    "### Givens"
   ]
  },
  {
   "cell_type": "code",
   "execution_count": 9,
   "metadata": {},
   "outputs": [],
   "source": [
    "F = 96485e3    # Faraday's constant, C/kmol equivalent charge\n",
    "R = 8314.5     # Gas constant, J/kmol-K\n",
    "\n",
    "k_fwd_star = 4.16307062e+7 # Chemical forward rate constant, m^4/kmol^2/s\n",
    "\n",
    "C_elyte = 46.05    # Total (reference) elyte concentration, kmol/m3\n",
    "C_Ni_s = 2.6e-08   # Total (reference) concentration of Ni surface sites, kmol/m2\n",
    "\n",
    "X_H_Ni = 0.6\n",
    "X_H2O_Ni = 0.2\n",
    "X_Vac_Ni = 0.2\n",
    "X_Vac_elyte = 0.08\n",
    "X_Ox_elyte = 0.92\n",
    "\n",
    "\"Species standard-state thermo\"\n",
    "g_H_Ni_o = -7.109209e+07      # standard-state gibbs energy for H adsorbed on Ni surface (J/kmol)\n",
    "g_H2O_Ni_o = -3.97403035e+08  # standard-state gibbs energy for H2O adsorbed on Ni surface (J/kmol)\n",
    "g_Vac_Ni_o = 0.0              # standard-state gibbs energy for Ni surface vacancy (J/kmol)\n",
    "g_Vac_elyte_o = 0.0           # standard-state gibbs energy for electrolyte oxide vacancy (J/kmol)\n",
    "g_Ox_elyte_o = -2.1392135e+08 # standard-state gibbs energy for electrolyte oxide O2- (J/kmol)\n",
    "\n",
    "# Validated (i.e. correct :) results.  We will use these to check our answers:\n",
    "E_validate = np.array([-0.9, -0.86724138, -0.83448276, -0.80172414, -0.76896552, \n",
    "                    -0.7362069, -0.70344828, -0.67068966, -0.63793103, -0.60517241, \n",
    "                    -0.57241379, -0.53965517, -0.50689655, -0.47413793, -0.44137931, \n",
    "                    -0.40862069, -0.37586207, -0.34310345, -0.31034483, -0.27758621, \n",
    "                    -0.24482759, -0.21206897, -0.17931034, -0.14655172,  -0.1137931, \n",
    "                    -0.08103448, -0.04827586, -0.01551724,  0.01724138,  0.05])\n",
    "i_validate = np.array([ 131.74413417,   92.44282478,   64.86313049,   45.50798636,   31.9231884,\n",
    "                    22.38620407,   15.68775772,   10.97849611,    7.66129177,    5.31552803,\n",
    "                    3.64376548,    2.43402707,    1.53291973,    0.82618438,    0.22420799,\n",
    "                    -0.34933914,   -0.96718197,   -1.70766206,   -2.66467121,   -3.95955677,\n",
    "                    -5.75650834,   -8.28337676,  -11.86056524,  -16.94165607,  -24.17092413,\n",
    "                    -34.46503005,  -49.12925142,  -70.02299007,  -99.79554155, -142.22202185])"
   ]
  },
  {
   "cell_type": "markdown",
   "metadata": {},
   "source": [
    "### Add some calculations to the following code block:"
   ]
  },
  {
   "cell_type": "code",
   "execution_count": 10,
   "metadata": {},
   "outputs": [
    {
     "name": "stdout",
     "output_type": "stream",
     "text": [
      "Delta G = -82695036.95825559\n",
      "k_rev_star = 406763.55684408237\n"
     ]
    }
   ],
   "source": [
    "# Loop over these delta phi = phi_anode - phi_elyte values:\n",
    "# Add additional variables/assumptions\n",
    "T = 1073.15        # 800C\n",
    "Beta = 0.5         # assumed\n",
    "n = -2\n",
    "\n",
    "DeltaG_rxn_circ = g_Vac_Ni_o + g_H2O_Ni_o + g_Vac_elyte_o - 2*g_H_Ni_o - g_Ox_elyte_o\n",
    "Prod_C_ac = (X_Vac_elyte*X_H2O_Ni*X_Vac_Ni)/(X_Ox_elyte*X_H_Ni**2)\n",
    "DeltaG_rxn = DeltaG_rxn_circ + R*T*log(Prod_C_ac)\n",
    "print('Delta G = '+ str(DeltaG_rxn))\n",
    "\n",
    "k_rev_star = k_fwd_star / exp(-DeltaG_rxn/(R*T)) / Prod_C_ac\n",
    "print('k_rev_star = ' + str(k_rev_star))\n",
    "\n",
    "delta_phi = np.linspace(-0.9, 0.05, 100)\n",
    "i_elementary = np.zeros_like(delta_phi)\n",
    "\n",
    "for ind, E in enumerate(delta_phi):\n",
    "    k_fwd = k_fwd_star * exp(-Beta * n * F * delta_phi[ind] / (R * T))\n",
    "    k_rev = k_rev_star * exp((1-Beta) * n * F * delta_phi[ind] / (R * T))\n",
    "\n",
    "    i_elementary[ind] = n * F * (k_fwd * (X_Ox_elyte*C_elyte*(X_H_Ni*C_Ni_s)**2)\n",
    "                                 - k_rev * (X_Vac_elyte*C_elyte*X_H2O_Ni*C_Ni_s*X_Vac_Ni*C_Ni_s))\n",
    "    "
   ]
  },
  {
   "cell_type": "markdown",
   "metadata": {},
   "source": [
    "Plot the results:"
   ]
  },
  {
   "cell_type": "code",
   "execution_count": 11,
   "metadata": {},
   "outputs": [
    {
     "data": {
      "text/plain": [
       "Text(0, 0.5, 'Current [A/m2]')"
      ]
     },
     "execution_count": 11,
     "metadata": {},
     "output_type": "execute_result"
    },
    {
     "data": {
      "image/png": "[encoded data removed]",
      "text/plain": [
       "<Figure size 432x288 with 1 Axes>"
      ]
     },
     "metadata": {
      "needs_background": "light"
     },
     "output_type": "display_data"
    }
   ],
   "source": [
    "fig1, ax1 = plt.subplots()\n",
    "ax1.plot(delta_phi,i_elementary,linewidth = 1.5,color = 'k')\n",
    "ax1.plot(E_validate,i_validate,'ro',linewidth = 1.5)\n",
    "ax1.set_xlabel('Electric Potential [V]',family='Times New Roman',fontsize=14)\n",
    "ax1.set_ylabel('Current [A/m2]',family='Times New Roman',fontsize=14)"
   ]
  },
  {
   "cell_type": "code",
   "execution_count": 12,
   "metadata": {},
   "outputs": [
    {
     "data": {
      "text/plain": [
       "Text(0, 0.5, 'Current [A/m2]')"
      ]
     },
     "execution_count": 12,
     "metadata": {},
     "output_type": "execute_result"
    },
    {
     "data": {
      "image/png": "[encoded data removed]",
      "text/plain": [
       "<Figure size 432x288 with 1 Axes>"
      ]
     },
     "metadata": {
      "needs_background": "light"
     },
     "output_type": "display_data"
    }
   ],
   "source": [
    "fig2, ax2 = plt.subplots()\n",
    "ax2.semilogy(delta_phi,abs(i_elementary),linewidth = 1.5,color = 'k')\n",
    "ax2.semilogy(E_validate,abs(i_validate),'ro',linewidth = 1.5)\n",
    "ax2.set_xlabel('Electric Potential [V]',family='Times New Roman',fontsize=14)\n",
    "ax2.set_ylabel('Current [A/m2]',family='Times New Roman',fontsize=14)"
   ]
  },
  {
   "cell_type": "code",
   "execution_count": null,
   "metadata": {},
   "outputs": [],
   "source": [
    "fig2, ax2 = plt.subplots()\n",
    "ax2.semilogy(delta_phi,abs(i_elementary),linewidth = 1.5,color = 'k')\n",
    "ax2.semilogy(E_validate,abs(i_validate),'ro',linewidth = 1.5)\n",
    "ax2.set_xlabel('Electric Potential [V]',family='Times New Roman',fontsize=14)\n",
    "ax2.set_ylabel('Current [A/m2]',family='Times New Roman',fontsize=14)"
   ]
  },
  {
   "cell_type": "markdown",
   "metadata": {},
   "source": [
    "### Discussion:\n",
    "Yes, these results match the validation data very closely as well as the underlying theory.  The cell is at equilibrium at approximalty -0.43V, as reflected by a current magnitude of 0; this is the open circuit voltage (OCV).  When not in equilibrium, a deviation from the OCV results in an exponential growth of the currnet.  After an initial growth period, the current steadies to a lower (yet still exponential) growth rate, reflected by the linear line in the log-y plot.  This correlates to the Tafel slope as further shown in Part 3."
   ]
  },
  {
   "cell_type": "markdown",
   "metadata": {},
   "source": [
    "## ii. Part 2: Butler-Volmer kinetics  \n",
    "\n",
    "Now use your derivation to calculate $i_\\circ$ as a function of your elementary kinetic parameters, and then calculate the currents for the same range of potentials.\n",
    "\n",
    "Add some code to the block below:"
   ]
  },
  {
   "cell_type": "code",
   "execution_count": 15,
   "metadata": {},
   "outputs": [],
   "source": [
    "i_BV = np.zeros_like(delta_phi)\n",
    "i_o = n * F * k_fwd_star**(1-Beta)*k_rev_star**Beta*(X_Ox_elyte*C_elyte*(X_H_Ni*C_Ni_s)**2)**(1-Beta) \\\n",
    "      * (X_Vac_elyte*C_elyte*X_H2O_Ni*C_Ni_s*X_Vac_Ni*C_Ni_s)**Beta\n",
    "\n",
    "for ind, E in enumerate(delta_phi):\n",
    "    eta = delta_phi[ind] + DeltaG_rxn/(n*F)\n",
    "    i_BV[ind] = i_o*(exp(-Beta*n*F*eta/(R*T))-exp((1-Beta)*n*F*eta/(R*T)))\n"
   ]
  },
  {
   "cell_type": "markdown",
   "metadata": {},
   "source": [
    "#### Let's plot the BV and Marcus currents together:"
   ]
  },
  {
   "cell_type": "code",
   "execution_count": 16,
   "metadata": {},
   "outputs": [
    {
     "data": {
      "image/png": "[encoded data removed]",
      "text/plain": [
       "<Figure size 432x288 with 1 Axes>"
      ]
     },
     "metadata": {
      "needs_background": "light"
     },
     "output_type": "display_data"
    }
   ],
   "source": [
    "plt.close('all')\n",
    "plt.plot(delta_phi,i_elementary,linewidth = 1.5,color = 'k');\n",
    "plt.plot(delta_phi,i_BV,'ro',markerfacecolor='none');\n",
    "plt.xlabel('Overpotential [V]',family='Times New Roman',fontsize=14)\n",
    "plt.ylabel('Current [A/m2]',family='Times New Roman',fontsize=14)\n",
    "plt.legend(['Mass Action','Butler Volmer'],frameon=False)\n",
    "plt.show()"
   ]
  },
  {
   "cell_type": "code",
   "execution_count": 17,
   "metadata": {},
   "outputs": [],
   "source": [
    "i_error = np.zeros_like(delta_phi)\n",
    "\n",
    "for ind, E in enumerate(delta_phi):\n",
    "    i_error[ind] = abs((i_BV[ind] - i_elementary[ind])/i_elementary[ind])*100"
   ]
  },
  {
   "cell_type": "code",
   "execution_count": 21,
   "metadata": {},
   "outputs": [
    {
     "data": {
      "image/png": "[encoded data removed]",
      "text/plain": [
       "<Figure size 432x288 with 1 Axes>"
      ]
     },
     "metadata": {
      "needs_background": "light"
     },
     "output_type": "display_data"
    }
   ],
   "source": [
    "plt.close('all')\n",
    "plt.semilogy(delta_phi,i_error,'ro',markerfacecolor='none');\n",
    "plt.xlabel('Overpotential [V]',family='Times New Roman',fontsize=14)\n",
    "plt.ylabel('Error [%]',family='Times New Roman',fontsize=14)\n",
    "plt.legend(['Mass Action','Butler Volmer'],frameon=False)\n",
    "plt.show()"
   ]
  },
  {
   "cell_type": "markdown",
   "metadata": {},
   "source": [
    "#### Discussion:\n",
    "This graph further confirms the results from the elementary current calculations.  The assumption of a constnat i_o is acceptable as shown by very little error (~10^-13%).  The error is greater magnitude near the OCV, which is a refleciton of a very small delta phi and therefore greater sensativity of results.  \n",
    "\n",
    "i_o is a function of the activity coefficients and the electrolyte and Nickle surface cite concentrations, which are all assumed to be constant.  If, for example, we are modeling a battery, this is not a good assumption because the composition and concentrations will vary singinficantly as the battery is charged or discharged. "
   ]
  },
  {
   "cell_type": "markdown",
   "metadata": {},
   "source": [
    "### C. Tafel current\n",
    "\n",
    "We can re-use the same parameters ($i_\\circ$, $\\beta$, etc.) from the Butler-Volmer expression to calculate the current using the Tafel approximation:"
   ]
  },
  {
   "cell_type": "code",
   "execution_count": null,
   "metadata": {},
   "outputs": [],
   "source": [
    "i_Tafel = np.zeros_like(delta_phi)\n",
    "\n",
    "for ind, E in enumerate(delta_phi):\n",
    "    \n",
    "    i_Tafel[ind] ="
   ]
  },
  {
   "cell_type": "code",
   "execution_count": null,
   "metadata": {},
   "outputs": [],
   "source": [
    "plt.plot(delta_phi,i_elementary,linewidth = 1.5,color = 'k');\n",
    "plt.plot(delta_phi,i_BV,'o',markeredgecolor='r',markerfacecolor='none');\n",
    "plt.plot(delta_phi,i_Tafel,'x',markeredgecolor='b',markerfacecolor='none');\n",
    "plt.xlabel('Overpotential [V]',family='Times New Roman',fontsize=14)\n",
    "plt.ylabel('Current [A/m2]',family='Times New Roman',fontsize=14)\n",
    "plt.legend(['Mass Action','Butler Volmer','Tafel'],frameon=False)\n",
    "plt.show()"
   ]
  },
  {
   "cell_type": "markdown",
   "metadata": {},
   "source": [
    "### Disucssion: \n",
    "What do you notice, from these results?  What from the theory can explain what you sese.\n",
    "\n",
    "#### Play with the limits, below, to highlight trends which support your discussion claims.\n",
    "\n",
    "Feel free to copy the following code block and zoom in on different regions."
   ]
  },
  {
   "cell_type": "code",
   "execution_count": null,
   "metadata": {},
   "outputs": [],
   "source": [
    "plt.plot(delta_phi,i_elementary,linewidth = 1.5,color = 'k');\n",
    "plt.plot(delta_phi,i_BV,'o',markeredgecolor='r',markerfacecolor='none');\n",
    "plt.plot(delta_phi,i_Tafel,'x',markeredgecolor='b',markerfacecolor='none');\n",
    "plt.xlabel('Electric Potential [V]',family='Times New Roman',fontsize=14)\n",
    "plt.ylabel('Current [A/m2]',family='Times New Roman',fontsize=14)\n",
    "plt.legend(['Mass Action','Butler Volmer','Tafel'],frameon=False)\n",
    "plt.xlim((-0.6,0.1))\n",
    "plt.ylim((-100,0))\n",
    "plt.show()"
   ]
  },
  {
   "cell_type": "markdown",
   "metadata": {},
   "source": [
    "#### Discussion:\n"
   ]
  },
  {
   "cell_type": "code",
   "execution_count": null,
   "metadata": {},
   "outputs": [],
   "source": []
  }
 ],
 "metadata": {
  "kernelspec": {
   "display_name": "Python 3",
   "language": "python",
   "name": "python3"
  },
  "language_info": {
   "codemirror_mode": {
    "name": "ipython",
    "version": 3
   },
   "file_extension": ".py",
   "mimetype": "text/x-python",
   "name": "python",
   "nbconvert_exporter": "python",
   "pygments_lexer": "ipython3",
   "version": "3.7.6"
  }
 },
 "nbformat": 4,
 "nbformat_minor": 2
}
